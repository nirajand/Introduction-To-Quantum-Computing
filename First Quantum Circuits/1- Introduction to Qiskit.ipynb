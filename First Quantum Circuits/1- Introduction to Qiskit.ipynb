{
 "cells": [
  {
   "cell_type": "markdown",
   "metadata": {},
   "source": [
    "# Creating First Quantum Circuit in Qiskit"
   ]
  },
  {
   "cell_type": "markdown",
   "metadata": {},
   "source": [
    "To create a quantum circuit, we will import QuantumCircuit class, and create a new QuantumCircuit object. Qiskit runs on top of Python. On creating a Quantum circuit, we need to tell Python how many qubits the circuit should have, and we can optionally also tell it hou many classical bits our circuits should it have to store the measurements of our qubits. The use of classic bits will come handy in later iterations of this repository."
   ]
  },
  {
   "cell_type": "code",
   "execution_count": 9,
   "metadata": {},
   "outputs": [
    {
     "data": {
      "image/png": "[encoded data removed]",
      "text/plain": [
       "<Figure size 116.697x264.88 with 1 Axes>"
      ]
     },
     "execution_count": 9,
     "metadata": {},
     "output_type": "execute_result"
    }
   ],
   "source": [
    "# From Qiskit, import QuantumCircuit. QuantumCircuit, as the name explains, creates a Quantum circuit in the Quantum computer.\n",
    "from qiskit import QuantumCircuit\n",
    "# Create quantum circuit with 3 qubits and 3 classical bits\n",
    "# (we'll explain why we need the classical bits later)\n",
    "qc = QuantumCircuit(3, 3)\n",
    "qc.draw()  # returns a drawing of the circuit"
   ]
  },
  {
   "cell_type": "markdown",
   "metadata": {},
   "source": [
    "Next, we need to measure the states of the qubits the quantum computers are in. Measurement is the fundamentql priniple of Quantum Mechanics."
   ]
  },
  {
   "cell_type": "code",
   "execution_count": 10,
   "metadata": {},
   "outputs": [
    {
     "data": {
      "image/png": "[encoded data removed]",
      "text/plain": [
       "<Figure size 267.197x264.88 with 1 Axes>"
      ]
     },
     "execution_count": 10,
     "metadata": {},
     "output_type": "execute_result"
    }
   ],
   "source": [
    "# measure qubits 0, 1 & 2 to classical bits 0, 1 & 2 respectively\n",
    "qc.measure([0,1,2], [0,1,2])\n",
    "qc.draw()"
   ]
  },
  {
   "cell_type": "markdown",
   "metadata": {},
   "source": [
    "Next, to see what the output the circuit gives, we need to use a quantum simulator. According the Qiskit documentation, a quantum simulator \"is a standard computer calculating what an ideal quantum computer would do.\"\n",
    "\n",
    "Simulating a quantum computer is believed to be difficult for classical computers, as the best algorithms we have grow exponentially with the number of qubits.\n",
    "\n",
    "Let's import Qiskit's simulator called Aer, and make a new simulator object."
   ]
  },
  {
   "cell_type": "code",
   "execution_count": 11,
   "metadata": {},
   "outputs": [],
   "source": [
    "from qiskit.providers.aer import AerSimulator\n",
    "sim = AerSimulator()  # make new simulator object"
   ]
  },
  {
   "cell_type": "markdown",
   "metadata": {},
   "source": [
    "To do the simulation, we execute `.run()` method. This returns a \"job\", which contains the information about the experiment. You can refer to the Qiskit documentation to learn more on job.\n",
    "\n",
    "To get the results from the job, we use the results method, and the most popular way to view the results is as a dictionary of \"counts\"."
   ]
  },
  {
   "cell_type": "code",
   "execution_count": 12,
   "metadata": {},
   "outputs": [
    {
     "data": {
      "text/plain": [
       "{'000': 1024}"
      ]
     },
     "execution_count": 12,
     "metadata": {},
     "output_type": "execute_result"
    }
   ],
   "source": [
    "job = sim.run(qc)      # run the experiment\n",
    "result = job.result()  # get the results\n",
    "result.get_counts()    # interpret the results as a \"counts\" dictionary"
   ]
  },
  {
   "cell_type": "raw",
   "metadata": {},
   "source": [
    "The keys in counts dictionary are bit-strings, and the values are the number of times that bit-string was measured. Quantum computers can have randomness in their results, so it's common to repeat the circuit a few times. This circuit was repeated 1024 times, which is the default number of times to repeat a circuit in Qiskit. By convention, qubits always start in the state 0, and since we are doing nothing to them before measurement, the results are always 0."
   ]
  },
  {
   "cell_type": "markdown",
   "metadata": {},
   "source": [
    "## Encoding an imput\n",
    "\n",
    "Now, let's look at how to encode a different binary string as an input. For this, we need what is known as NOT gate. This is a basic logic gate found in common computer circuits. What it does is it flips the state exactly its opposite state. For example, if 0 passes down through NOT gate, it comes out as 1 and vice-versa. For qubits, we use a get known as X-gate for this.\n",
    "\n",
    "Below, we will create a new circuit dedicated to the job of encoding."
   ]
  },
  {
   "cell_type": "code",
   "execution_count": 13,
   "metadata": {},
   "outputs": [
    {
     "data": {
      "image/png": "[encoded data removed]",
      "text/plain": [
       "<Figure size 267.197x264.88 with 1 Axes>"
      ]
     },
     "execution_count": 13,
     "metadata": {},
     "output_type": "execute_result"
    }
   ],
   "source": [
    "# Create quantum circuit with 3 qubits and 3 classical bits:\n",
    "qc = QuantumCircuit(3, 3)\n",
    "qc.x([0,1])  # Perform X-gates on qubits 0 & 1\n",
    "qc.measure([0,1,2], [0,1,2])\n",
    "qc.draw()    # returns a drawing of the circuit"
   ]
  },
  {
   "cell_type": "raw",
   "metadata": {},
   "source": [
    "Simulating the above circuit in the Quantum Computer."
   ]
  },
  {
   "cell_type": "code",
   "execution_count": 14,
   "metadata": {},
   "outputs": [
    {
     "data": {
      "text/plain": [
       "{'011': 1024}"
      ]
     },
     "execution_count": 14,
     "metadata": {},
     "output_type": "execute_result"
    }
   ],
   "source": [
    "job = sim.run(qc)      # run the experiment\n",
    "result = job.result()  # get the results\n",
    "result.get_counts()    # interpret the results as a \"counts\" dictionary"
   ]
  },
  {
   "cell_type": "raw",
   "metadata": {},
   "source": [
    "After the measurement, the state has been changed to 011 whose decimal translation is 3. The state is transferred to the state 3 and the circuit is run 1024 times."
   ]
  },
  {
   "cell_type": "markdown",
   "metadata": {},
   "source": [
    "# Creating an adder circuit"
   ]
  },
  {
   "cell_type": "markdown",
   "metadata": {},
   "source": [
    "### Remembering how to add\n",
    "\n",
    "To look at turning inputs into outputs, we need a problem to solve. Let’s do some basic maths. In primary school, you will have learned how to take large mathematical problems and break them down into manageable pieces. For example, how would you go about solving this addition problem?\n",
    "\n",
    "  3573\n",
    "+ 9562\n",
    "\n",
    "How can we solve a problem like this? One way is to do it digit by digit, from right to left. So we start with 3+2. And then 7 + 6, followed by 5+5 and then 3+9. Adding the numbers, we get:\n",
    "\n",
    "  3573\n",
    "+ 9562\n",
    "---------\n",
    " 13135\n",
    " \n",
    " This may just be simple addition, but it demonstrates the principles behind all algorithms. Whether the algorithm is designed to solve mathematical problems or process text or images, we always break big tasks down into small and simple steps."
   ]
  },
  {
   "cell_type": "markdown",
   "metadata": {
    "tags": []
   },
   "source": [
    "To run on a computer, algorithms need to be compiled down to the smallest and simplest steps possible. To see what these look like, let’s do the above addition problem again but in binary.\n",
    "\n",
    "(Extracted from <a href=\"https://learn.qiskit.org/course/introduction/the-atoms-of-computation#the-11-2\"><u>learn.qiskit.org/course</u></a>)\n",
    "\n",
    "### Adding binary numbers\n",
    "\n",
    "<img src=\"https://learn.qiskit.org/content/intro/images/aoc/carousel/1/0.svg\" alt=\"Example Binary processing\" width=\"200\" height=\"100\">\n",
    "\n",
    "Note that the second number has a bunch of extra 0s on the left. This just serves to make the two strings the same length.\n",
    "\n",
    "<img src=\"https://learn.qiskit.org/content/intro/images/aoc/carousel/1/1.svg\" alt=\"Example Binary Processing\" width=\"200\" height=\"100\">\n",
    "\n",
    "Our first task is to do the 1+0 for the column on the right. In binary, as in any number system, the answer is 1.\n",
    "\n",
    "<img src=\"https://learn.qiskit.org/content/intro/images/aoc/carousel/1/2.svg\" alt=\"Example Binary Processing\" width=\"200\" height=\"100\">\n",
    "\n",
    "We get the same result for the 0+1 of the second column.\n",
    "\n",
    "<img src=\"https://learn.qiskit.org/content/intro/images/aoc/carousel/1/3.svg\" alt=\"Example Binary Processing\" width=\"200\" height=\"100\">\n",
    "\n",
    "Next, we have 1+1. As you’ll surely be aware, 1+1=2. In binary, the number 2 is written 10, and so requires two bits. This means that we need to carry the 1, just as we would for the number 10 in decimal. The next column now requires us to calculate 1+1+1. This means adding three numbers together, so things are getting complicated for our computer.\n",
    "\n",
    "<img src=\"https://learn.qiskit.org/content/intro/images/aoc/carousel/1/4.svg\" alt=\"Example Binary Processing\" width=\"200\" height=\"100\">\n",
    "\n",
    "But we can still compile it down to simpler operations, and do it in a way that only ever requires us to add two bits together. For this, we can start with just the first two 1s.\n",
    "\n",
    "<img src=\"https://learn.qiskit.org/content/intro/images/aoc/carousel/1/5.svg\" alt=\"Example Binary Processing\" width=\"200\" height=\"100\">\n",
    "\n",
    "Now we need to add this 10 to the final 1 , which can be done using our usual method of going through the columns. The final answer is 11 (also known as 3).\n",
    "\n",
    "<img src=\"https://learn.qiskit.org/content/intro/images/aoc/carousel/1/6.svg\" alt=\"Example Binary Processing\" width=\"200\" height=\"100\">\n",
    "\n",
    "Now we can get back to the rest of the problem. With the answer of 11, we have another carry bit. So now we have another 1+1+1 to do. But we already know how to do that, so it’s not a big deal.\n",
    "\n",
    "\n",
    "In fact, everything left so far is something we already know how to do. This is because, if you break everything down into adding just two bits, there are only four possible things you’ll ever need to calculate. Here are the four basic sums (we’ll write all the answers with two bits to be consistent):\n",
    "\n",
    "<img src=\"https://learn.qiskit.org/content/intro/images/aoc/carousel/1/7.svg\" alt=\"Example Binary Processing\" width=\"200\" height=\"100\">\n",
    "\n",
    "\n",
    "This is called a half adder. If our computer can implement this, and if it can chain many of them together, it can add anything."
   ]
  },
  {
   "cell_type": "markdown",
   "metadata": {},
   "source": [
    "## Adding with Quantum Circuits\n",
    "\n",
    "<img src=\"https://learn.qiskit.org/content/intro/images/aoc/half-adder.svg\" alt=\"Example of Addition of Quantum Circuits\" width=\"500\" height=\"300\">\n",
    "\n",
    "The above example encodes a 1 in both these qubits, and so it seeks to find the solution of 1+1. The result will be a string of two bits, which we will read out from the qubits 2 and 3. All that remains is to fill in the actual program, which lives in the blank space in the middle.\n",
    "\n",
    "The dashed lines in the image are just to distinguish the different parts of the circuit (although they can have more interesting uses too)\n",
    "\n",
    "The basic operations of computing are known as logic gates. We’ve already used the NOT gate, but this is not enough to make our half adder. We could only use it to manually write out the answers. Since we want the computer to do the actual computing for us, we’ll need some more powerful gates.\n",
    "\n",
    "In the traditional computation, when we need something that can figure out whether two bits are different or not, in the study of digital computation, a gate is used. This is called an XOR gate.\n",
    "\n",
    "<center>\n",
    "\n",
    "| Input 1   |   Input 2    |  XOR Output |\n",
    "|:----------:|:-------------:|:------:|\n",
    "| 0 |  0 | 0 |\n",
    "| 0 |    1   |   1 |\n",
    "| 1 | 0 |    1 |\n",
    "| 1 | 1 |    0 |\n",
    "\n",
    "</center>\n",
    "\n",
    "In quantum computers, the job of the XOR gate is done by the ‘controlled-NOT gate’. We will call it the ‘CNOT’. In circuit diagrams, it is drawn as in the image below. This is applied to a pair of qubits.\n",
    "\n",
    "<img src=\"https://learn.qiskit.org/content/intro/images/aoc/cnot_xor.svg\" alt=\"CNOT Gate\" width=\"500\" height=\"300\">\n",
    "\n",
    "This is applied to a pair of qubits. One acts as the control qubit (this is the one with the little dot). The other acts as the target qubit (with the big circle and cross - kind of like a target mark).\n",
    "\n",
    "In Qiskit, the method `.cx()` is used to add a CNOT gate to the circuit. We need to give the indices of two qubits it acts on as arguments."
   ]
  },
  {
   "cell_type": "code",
   "execution_count": 15,
   "metadata": {},
   "outputs": [
    {
     "data": {
      "image/png": "[encoded data removed]",
      "text/plain": [
       "<Figure size 327.252x204.68 with 1 Axes>"
      ]
     },
     "metadata": {},
     "output_type": "display_data"
    },
    {
     "name": "stdout",
     "output_type": "stream",
     "text": [
      "Result:  {'11': 1024}\n"
     ]
    }
   ],
   "source": [
    "# Create a QuantumCircuit with two qubits and two classic bits.\n",
    "qc = QuantumCircuit(2,2)\n",
    "qc.x(0)\n",
    "qc.cx(0,1)    # CNOT controlled by qubit 0 and targeting qubit 1\n",
    "qc.measure([0,1], [0,1])\n",
    "display(qc.draw())        # displays a drawing of the circuit\n",
    "job =  sim.run(qc)        # run the experiment\n",
    "result  = job.result()    # get the results\n",
    "# interpret the results as a \"counts\" dictionary.\n",
    "print(\"Result: \", result.get_counts())"
   ]
  },
  {
   "cell_type": "markdown",
   "metadata": {},
   "source": [
    "For half adders, we will not overwrite one of our inputs. Instead, we want to write the results on a new pair of qubits. For this, we will use two CNOTs and write output to a new qubit which we know will be in state 0:\n",
    "\n",
    "<img src=\"https://learn.qiskit.org/content/intro/images/aoc/xor.svg\" alt=\"A XOR B\" width = \"300\" height = \"200\">\n",
    "\n",
    "We are halfway through the adder circuit and we need to perform a new operation. We need to check whether both inputs are 1. If they are — and only if they are — we need to do a NOT gate on qubit 3. That will flip it to the required value of 1 for this case only, giving us the output we need. For this, we need a new gate: like a CNOT but controlled on two qubits instead of just one. This will perform a NOT on the target qubit only when both controls are in state 1. This new gate is called the Toffoli gate. IF you are familiar with Boolean logic gates, it is basically an AND gate.\n",
    "\n",
    "The Toffoli gate, invented by Tommaso Toffoli, is a universal reversible logic gate, which means that any reversible circuit can be constructed from Toffoli gates. It is also known as the controlled-controlled-not gate, which describes its action. It has 3-bit inputs and outputs; if the first two bits are both set to 1, it inverts the third bit, otherwise all bits stay the same.\n",
    "\n",
    "<img src=\"https://learn.qiskit.org/content/intro/images/aoc/ha_circuit.svg\" alt=\"Toffoli Gate\" width=\"360\" height=\"180\">\n",
    "\n",
    "In Qiskit, the method `.ccx()` is used to call Toffolli gate in circuit for computation."
   ]
  },
  {
   "cell_type": "code",
   "execution_count": 18,
   "metadata": {},
   "outputs": [
    {
     "data": {
      "image/png": "[encoded data removed]",
      "text/plain": [
       "<Figure size 447.797x325.08 with 1 Axes>"
      ]
     },
     "execution_count": 18,
     "metadata": {},
     "output_type": "execute_result"
    }
   ],
   "source": [
    "qc = QuantumCircuit(4, 2)\n",
    "\n",
    "# First, our circuit should encode an input (here '11')\n",
    "qc.x(0)\n",
    "qc.x(1)\n",
    "\n",
    "# Next, it should carry out the adder circuit we created\n",
    "qc.cx(0,2)\n",
    "qc.cx(1,2)\n",
    "qc.ccx(0,1,3)\n",
    "\n",
    "# Finally, we will measure the bottom two qubits to extract the output\n",
    "qc.measure(2,0)\n",
    "qc.measure(3,1)\n",
    "qc.draw()"
   ]
  },
  {
   "cell_type": "code",
   "execution_count": 19,
   "metadata": {},
   "outputs": [
    {
     "data": {
      "text/plain": [
       "{'10': 1024}"
      ]
     },
     "execution_count": 19,
     "metadata": {},
     "output_type": "execute_result"
    }
   ],
   "source": [
    "job = sim.run(qc)  # run the experiment\n",
    "result = job.result()   # get the results\n",
    "result.get_counts()     # interpret the results as a “counts” dictionary"
   ]
  },
  {
   "cell_type": "markdown",
   "metadata": {},
   "source": [
    "Here we can see that the result ‘10’ was measured 1024 times, and we didn’t measure any other result."
   ]
  }
 ],
 "metadata": {
  "kernelspec": {
   "display_name": "Python 3 (ipykernel)",
   "language": "python",
   "name": "python3"
  },
  "language_info": {
   "codemirror_mode": {
    "name": "ipython",
    "version": 3
   },
   "file_extension": ".py",
   "mimetype": "text/x-python",
   "name": "python",
   "nbconvert_exporter": "python",
   "pygments_lexer": "ipython3",
   "version": "3.8.13"
  },
  "widgets": {
   "application/vnd.jupyter.widget-state+json": {
    "state": {},
    "version_major": 2,
    "version_minor": 0
   }
  }
 },
 "nbformat": 4,
 "nbformat_minor": 4
}
